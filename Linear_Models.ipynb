{
 "cells": [
  {
   "cell_type": "markdown",
   "metadata": {},
   "source": [
    "A linear model attempts to estimate sets of observables $y$ with linear combinations of predictors $x$.\n",
    "\n",
    "---\n",
    "\n",
    "If $x$ has a single dimension, i.e. there is only one coefficient of linearity, the obtained model is univariate.\n",
    "\n",
    "If, on the other hand, $x$ has more than one dimension, i.e. each of its dimensions has a corresponding linear coefficient, the obtained model is multivariate.\n",
    "\n",
    "---\n",
    "\n",
    "Additionally, the $x$ and $y$ sets may be affected by uncertainties.\n",
    "\n",
    "Any uncertainty affecting any quantity is here assumed to stem from a normal distribution.\n",
    "\n",
    "---\n",
    "\n",
    "This notebook attempts to summarise the best `python` tools with which each of these cases can be better tackled.\n",
    "\n"
   ]
  },
  {
   "cell_type": "markdown",
   "metadata": {},
   "source": [
    "# Import statements"
   ]
  },
  {
   "cell_type": "code",
   "execution_count": 1,
   "metadata": {},
   "outputs": [],
   "source": [
    "import numpy as np\n",
    "\n",
    "from scipy import stats\n",
    "from sklearn import linear_model\n",
    "from statsmodels.regression.linear_model import OLS\n",
    "from statsmodels.tools import tools"
   ]
  },
  {
   "cell_type": "markdown",
   "metadata": {},
   "source": [
    "# Univariate models"
   ]
  },
  {
   "cell_type": "code",
   "execution_count": 2,
   "metadata": {},
   "outputs": [],
   "source": [
    "n = 100\n",
    "p = 2   # number of parameters to fit, i.e. slope and intercept\n",
    "\n",
    "real_slope = -5.3\n",
    "real_intercept = 10.7\n",
    "\n",
    "x_sigma = 0.5\n",
    "y_sigma = 3.5\n",
    "\n",
    "# create column vector of predictors\n",
    "x = np.linspace(start=-30, stop=20, num=n) + np.random.normal(loc=0, scale=x_sigma, size=(n,))\n",
    "x = x.reshape(-1, 1)\n",
    "\n",
    "x_design = tools.add_constant(x)\n",
    "\n",
    "# create column vector of observables\n",
    "y = real_slope * np.linspace(start=-30, stop=20, num=n) + real_intercept + np.random.normal(loc=0, scale=y_sigma, size=(n,))\n",
    "y = y.reshape(-1, 1)\n",
    "\n",
    "x_to_predict = 6\n",
    "x_to_predict_col_vec = np.array([[1],[x_to_predict]])\n",
    "\n",
    "alpha = 1-.95"
   ]
  },
  {
   "cell_type": "markdown",
   "metadata": {},
   "source": [
    "### Without uncertainties"
   ]
  },
  {
   "cell_type": "markdown",
   "metadata": {},
   "source": [
    "##### Using `scipy`"
   ]
  },
  {
   "cell_type": "code",
   "execution_count": 3,
   "metadata": {},
   "outputs": [
    {
     "name": "stdout",
     "output_type": "stream",
     "text": [
      "Estimated slope -5.3330 ± 0.0287\n",
      "Estimated intercept 10.3853 ± 0.4421\n"
     ]
    }
   ],
   "source": [
    "# vectors need to be converted to rows\n",
    "x_row = x.flatten()\n",
    "y_row = y.flatten()\n",
    "\n",
    "sp_result = stats.linregress(x.flatten(), y_row)\n",
    "\n",
    "print(f\"Estimated slope {sp_result.slope:.4f} ± {sp_result.stderr:.4f}\\nEstimated intercept {sp_result.intercept:.4f} ± {sp_result.intercept_stderr:.4f}\")"
   ]
  },
  {
   "cell_type": "code",
   "execution_count": 4,
   "metadata": {},
   "outputs": [
    {
     "name": "stdout",
     "output_type": "stream",
     "text": [
      "95% Confidence level at x = 6 is y_estimated = -21.6125 ± 1.0402\n"
     ]
    }
   ],
   "source": [
    "residuals = y_row - (x_row * sp_result.slope + sp_result.intercept)\n",
    "s_value = np.linalg.norm(residuals, 2) / np.sqrt(n - p)\n",
    "\n",
    "y_estimated = x_to_predict * sp_result.slope + sp_result.intercept\n",
    "\n",
    "inner_sqrt_term = (x_to_predict_col_vec.T @ np.linalg.inv(x_design.T @ x_design ) @ x_to_predict_col_vec )[0,0]\n",
    "\n",
    "one_sided_CL_magnitude = stats.t.ppf(q = 1-(alpha/2), df = n-p) * s_value * np.sqrt(inner_sqrt_term)\n",
    "\n",
    "print(f\"95% Confidence level at x = {x_to_predict} is y_estimated = {y_estimated:.4f} ± {one_sided_CL_magnitude:.4f}\")\n"
   ]
  },
  {
   "cell_type": "code",
   "execution_count": 5,
   "metadata": {},
   "outputs": [
    {
     "name": "stdout",
     "output_type": "stream",
     "text": [
      "95% Confidence level at x = 6 is y_estimated = -21.6125 ± 8.3575\n"
     ]
    }
   ],
   "source": [
    "one_sided_PL_magnitude = stats.t.ppf(q = 1-alpha/2, df = n-p) * s_value * np.sqrt(1+inner_sqrt_term)\n",
    "\n",
    "print(f\"95% Confidence level at x = {x_to_predict} is y_estimated = {y_estimated:.4f} ± {one_sided_PL_magnitude:.4f}\")"
   ]
  },
  {
   "cell_type": "markdown",
   "metadata": {},
   "source": [
    "##### Using `sklearn`"
   ]
  },
  {
   "cell_type": "code",
   "execution_count": null,
   "metadata": {},
   "outputs": [
    {
     "name": "stdout",
     "output_type": "stream",
     "text": [
      "Estimated slope -5.3330 \n",
      "Estimated intercept 10.3853 \n"
     ]
    }
   ],
   "source": [
    "sk_lm = linear_model.LinearRegression()\n",
    "sk_result = sk_lm.fit(x, y)\n",
    "\n",
    "print(f\"Estimated slope {sk_result.coef_[0,0]:.4f} \\nEstimated intercept {sk_result.intercept_[0]:.4f} \")"
   ]
  },
  {
   "cell_type": "code",
   "execution_count": null,
   "metadata": {},
   "outputs": [
    {
     "name": "stdout",
     "output_type": "stream",
     "text": [
      "95% Confidence level at x = 6 is y_estimated = -21.6125 ± 1.0402\n"
     ]
    }
   ],
   "source": [
    "residuals = y_row - (x_row * sk_result.coef_[0,0] + sk_result.intercept_[0])\n",
    "s_value = np.linalg.norm(residuals, 2) / np.sqrt(n - p)\n",
    "\n",
    "y_estimated = x_to_predict * sk_result.coef_[0,0] + sk_result.intercept_[0]\n",
    "\n",
    "inner_sqrt_term = (x_to_predict_col_vec.T @ np.linalg.inv(x_design.T @ x_design ) @ x_to_predict_col_vec )[0,0]\n",
    "\n",
    "one_sided_CL_magnitude = stats.t.ppf(q = 1-(alpha/2), df = n-p) * s_value * np.sqrt(inner_sqrt_term)\n",
    "\n",
    "print(f\"95% Confidence level at x = {x_to_predict} is y_estimated = {y_estimated:.4f} ± {one_sided_CL_magnitude:.4f}\")"
   ]
  },
  {
   "cell_type": "code",
   "execution_count": null,
   "metadata": {},
   "outputs": [
    {
     "name": "stdout",
     "output_type": "stream",
     "text": [
      "95% Confidence level at x = 6 is y_estimated = -21.6125 ± 8.3575\n"
     ]
    }
   ],
   "source": [
    "one_sided_PL_magnitude = stats.t.ppf(q = 1-alpha/2, df = n-p) * s_value * np.sqrt(1+inner_sqrt_term)\n",
    "\n",
    "print(f\"95% Confidence level at x = {x_to_predict} is y_estimated = {y_estimated:.4f} ± {one_sided_PL_magnitude:.4f}\")"
   ]
  },
  {
   "cell_type": "markdown",
   "metadata": {},
   "source": [
    "##### Using `statsmodels`"
   ]
  },
  {
   "cell_type": "code",
   "execution_count": 9,
   "metadata": {},
   "outputs": [],
   "source": [
    "sm_lm = OLS(y, x_design)\n",
    "sm_result = sm_lm.fit()\n",
    "# print(sm_result.summary())"
   ]
  },
  {
   "cell_type": "code",
   "execution_count": 10,
   "metadata": {},
   "outputs": [
    {
     "name": "stdout",
     "output_type": "stream",
     "text": [
      "95% Confidence level at x = 6 is y_estimated = -21.6125 ± 1.0402\n"
     ]
    }
   ],
   "source": [
    "prediction = sm_result.get_prediction(x_to_predict_col_vec.T)\n",
    "\n",
    "y_estimated = prediction.predicted_mean[0]\n",
    "\n",
    "one_sided_CL_magnitude = prediction.summary_frame(alpha=alpha).mean_ci_upper.iloc[0] - prediction.predicted_mean[0]\n",
    "\n",
    "print(f\"95% Confidence level at x = {x_to_predict} is y_estimated = {y_estimated:.4f} ± {one_sided_CL_magnitude:.4f}\")"
   ]
  },
  {
   "cell_type": "code",
   "execution_count": 11,
   "metadata": {},
   "outputs": [
    {
     "name": "stdout",
     "output_type": "stream",
     "text": [
      "95% Confidence level at x = 6 is y_estimated = -21.6125 ± 8.3575\n"
     ]
    }
   ],
   "source": [
    "one_sided_PL_magnitude = prediction.summary_frame(alpha=alpha).obs_ci_upper.iloc[0] - prediction.predicted_mean[0]\n",
    "\n",
    "print(f\"95% Confidence level at x = {x_to_predict} is y_estimated = {y_estimated:.4f} ± {one_sided_PL_magnitude:.4f}\")"
   ]
  },
  {
   "cell_type": "markdown",
   "metadata": {},
   "source": [
    "##### Conclusion"
   ]
  },
  {
   "cell_type": "markdown",
   "metadata": {},
   "source": [
    "Use `statsmodels` since it is neater and there is less variable manipulation.\n",
    "\n",
    "Do not use `scikit-learn` since it doesn't even provide standard errors for the fit coefficients."
   ]
  },
  {
   "cell_type": "markdown",
   "metadata": {},
   "source": [
    "# Multivariate models"
   ]
  },
  {
   "cell_type": "markdown",
   "metadata": {},
   "source": []
  }
 ],
 "metadata": {
  "kernelspec": {
   "display_name": "venv",
   "language": "python",
   "name": "python3"
  },
  "language_info": {
   "codemirror_mode": {
    "name": "ipython",
    "version": 3
   },
   "file_extension": ".py",
   "mimetype": "text/x-python",
   "name": "python",
   "nbconvert_exporter": "python",
   "pygments_lexer": "ipython3",
   "version": "3.13.2"
  }
 },
 "nbformat": 4,
 "nbformat_minor": 2
}
